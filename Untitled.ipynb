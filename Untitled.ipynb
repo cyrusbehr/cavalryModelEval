{
 "cells": [
  {
   "cell_type": "code",
   "execution_count": 2,
   "metadata": {},
   "outputs": [
    {
     "name": "stdout",
     "output_type": "stream",
     "text": [
      "4950\n",
      "4950\n"
     ]
    }
   ],
   "source": [
    "import csv\n",
    "with open('/home/cyrus/work/prototypes/cavalryModelEvaluation/mugshots_scores_full_model_cavalry_100_templates.csv', newline='') as csvfile:\n",
    "    data_cavalry = list(csv.reader(csvfile))\n",
    "print(len(data_cavalry))\n",
    "\n",
    "with open('/home/cyrus/work/prototypes/cavalryModelEvaluation/mugshots_scores_full_model_sdk_100_templates.csv', newline='') as csvfile:\n",
    "    data_sdk = list(csv.reader(csvfile))\n",
    "print(len(data_sdk))"
   ]
  },
  {
   "cell_type": "code",
   "execution_count": null,
   "metadata": {},
   "outputs": [],
   "source": [
    "# SDK\n",
    "positives = []\n",
    "negatives = []\n",
    "\n",
    "data = data_cavalry\n",
    "\n",
    "for match, score in data:\n",
    "    if match == '0':\n",
    "        negatives.append(float(score))\n",
    "    else:\n",
    "        positives.append(float(score))\n",
    "\n",
    "# there are more negatives than positives, we balance them by discard negative samples\n",
    "print(len(negatives))\n",
    "negatives = negatives[:len(positives)]\n",
    "\n",
    "# they should have the same number of samples\n",
    "print(len(positives))\n",
    "print(len(negatives))"
   ]
  }
 ],
 "metadata": {
  "kernelspec": {
   "display_name": "Python 3",
   "language": "python",
   "name": "python3"
  },
  "language_info": {
   "codemirror_mode": {
    "name": "ipython",
    "version": 3
   },
   "file_extension": ".py",
   "mimetype": "text/x-python",
   "name": "python",
   "nbconvert_exporter": "python",
   "pygments_lexer": "ipython3",
   "version": "3.7.6"
  }
 },
 "nbformat": 4,
 "nbformat_minor": 4
}
